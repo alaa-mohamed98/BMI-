{
 "cells": [
  {
   "cell_type": "code",
   "execution_count": 10,
   "id": "f6c4ddc4-f3d2-4492-bbe5-cd0b594322a4",
   "metadata": {},
   "outputs": [
    {
     "name": "stdout",
     "output_type": "stream",
     "text": [
      "Welcome In BMI Calculator Program\n"
     ]
    },
    {
     "name": "stdin",
     "output_type": "stream",
     "text": [
      "Please Enter your Weight 70\n",
      "Please Enter your Height 160\n"
     ]
    },
    {
     "ename": "TypeError",
     "evalue": "can only concatenate str (not \"float\") to str",
     "output_type": "error",
     "traceback": [
      "\u001b[0;31m---------------------------------------------------------------------------\u001b[0m",
      "\u001b[0;31mTypeError\u001b[0m                                 Traceback (most recent call last)",
      "\u001b[0;32m<ipython-input-10-17f9348ee518>\u001b[0m in \u001b[0;36m<module>\u001b[0;34m\u001b[0m\n\u001b[1;32m      9\u001b[0m     \u001b[0mprint\u001b[0m\u001b[0;34m(\u001b[0m\u001b[0;34m\"Your BMI is\"\u001b[0m \u001b[0;34m+\u001b[0m\u001b[0mBMI\u001b[0m\u001b[0;34m+\u001b[0m\u001b[0;34m\"You are healthy.\"\u001b[0m\u001b[0;34m)\u001b[0m\u001b[0;34m\u001b[0m\u001b[0;34m\u001b[0m\u001b[0m\n\u001b[1;32m     10\u001b[0m \u001b[0;32melif\u001b[0m \u001b[0mBMI\u001b[0m \u001b[0;34m<=\u001b[0m \u001b[0;36m29.9\u001b[0m\u001b[0;34m:\u001b[0m\u001b[0;34m\u001b[0m\u001b[0;34m\u001b[0m\u001b[0m\n\u001b[0;32m---> 11\u001b[0;31m     \u001b[0mprint\u001b[0m\u001b[0;34m(\u001b[0m\u001b[0;34m\"Your BMI is\"\u001b[0m \u001b[0;34m+\u001b[0m\u001b[0mBMI\u001b[0m\u001b[0;34m+\u001b[0m\u001b[0;34m\"You are over weight.\"\u001b[0m\u001b[0;34m)\u001b[0m\u001b[0;34m\u001b[0m\u001b[0;34m\u001b[0m\u001b[0m\n\u001b[0m\u001b[1;32m     12\u001b[0m \u001b[0;32melif\u001b[0m \u001b[0mBMI\u001b[0m \u001b[0;34m<=\u001b[0m \u001b[0;36m34.9\u001b[0m\u001b[0;34m:\u001b[0m\u001b[0;34m\u001b[0m\u001b[0;34m\u001b[0m\u001b[0m\n\u001b[1;32m     13\u001b[0m     \u001b[0mprint\u001b[0m\u001b[0;34m(\u001b[0m\u001b[0;34m\"Your BMI is\"\u001b[0m \u001b[0;34m+\u001b[0m\u001b[0mBMI\u001b[0m\u001b[0;34m+\u001b[0m\u001b[0;34m\"You are severely over weight.\"\u001b[0m\u001b[0;34m)\u001b[0m\u001b[0;34m\u001b[0m\u001b[0;34m\u001b[0m\u001b[0m\n",
      "\u001b[0;31mTypeError\u001b[0m: can only concatenate str (not \"float\") to str"
     ]
    }
   ],
   "source": [
    "print(\"Welcome In BMI Calculator Program\")\n",
    "w=float(input(\"Please Enter your Weight\"))\n",
    "h=float(input(\"Please Enter your Height\"))\n",
    "\n",
    "BMI=w/(h/100)**2\n",
    "bmi=str(BMI)\n",
    "if BMI <= 18.4:\n",
    "    print(\"Your BMI is\" +bmi+\"You are underweight.\")\n",
    "elif BMI <= 24.9:\n",
    "    print(\"Your BMI is\" +bmi+\"You are healthy.\")\n",
    "elif BMI <= 29.9:\n",
    "    print(\"Your BMI is\" +bmi+\" You are over weight.\")\n",
    "elif BMI <= 34.9:\n",
    "    print(\"Your BMI is\" +bmi+\" You are severely over weight.\")\n",
    "elif BMI <= 39.9:\n",
    "    print(\"Your BMI is\" +bmi+\" You are obese.\")\n",
    "else:\n",
    "    print(\"Your BMI is\" +bmi+\" You are severely obese.\")\n",
    "\n"
   ]
  },
  {
   "cell_type": "code",
   "execution_count": null,
   "id": "edd0872b-2350-433a-a717-b3189f8fa389",
   "metadata": {},
   "outputs": [],
   "source": []
  }
 ],
 "metadata": {
  "kernelspec": {
   "display_name": "Python 3",
   "language": "python",
   "name": "python3"
  },
  "language_info": {
   "codemirror_mode": {
    "name": "ipython",
    "version": 3
   },
   "file_extension": ".py",
   "mimetype": "text/x-python",
   "name": "python",
   "nbconvert_exporter": "python",
   "pygments_lexer": "ipython3",
   "version": "3.7.8"
  }
 },
 "nbformat": 4,
 "nbformat_minor": 5
}
